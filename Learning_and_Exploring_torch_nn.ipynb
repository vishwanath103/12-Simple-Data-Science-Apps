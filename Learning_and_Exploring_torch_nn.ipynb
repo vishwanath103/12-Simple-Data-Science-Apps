{
  "nbformat": 4,
  "nbformat_minor": 0,
  "metadata": {
    "colab": {
      "name": "Learning_and_Exploring_torch.nn.ipynb",
      "provenance": [],
      "authorship_tag": "ABX9TyPmGaE77h0i6p8UJB41PLIt",
      "include_colab_link": true
    },
    "kernelspec": {
      "name": "python3",
      "display_name": "Python 3"
    },
    "language_info": {
      "name": "python"
    }
  },
  "cells": [
    {
      "cell_type": "markdown",
      "metadata": {
        "id": "view-in-github",
        "colab_type": "text"
      },
      "source": [
        "<a href=\"https://colab.research.google.com/github/vishwanath103/12-Simple-Data-Science-Apps/blob/main/Learning_and_Exploring_torch_nn.ipynb\" target=\"_parent\"><img src=\"https://colab.research.google.com/assets/colab-badge.svg\" alt=\"Open In Colab\"/></a>"
      ]
    },
    {
      "cell_type": "code",
      "metadata": {
        "id": "25aSqce47HOG"
      },
      "source": [
        "from pathlib import Path\n",
        "import requests"
      ],
      "execution_count": 1,
      "outputs": []
    },
    {
      "cell_type": "code",
      "metadata": {
        "id": "qfmuRE4bHAky"
      },
      "source": [
        "DATA_PATH = Path(\"data\")\n",
        "PATH = DATA_PATH / \"mnist\"\n",
        "\n",
        "PATH.mkdir(parents=True, exist_ok=True)"
      ],
      "execution_count": 3,
      "outputs": []
    },
    {
      "cell_type": "code",
      "metadata": {
        "id": "m84R3RioIH91"
      },
      "source": [
        "URL = \"https://github.com/pytorch/tutorials/raw/master/_static/\"\n",
        "FILENAME = \"mnist.pkl.gz\"\n",
        "\n",
        "if not (PATH / FILENAME).exists():\n",
        "  content = requests.get(URL + FILENAME).content\n",
        "  (PATH / FILENAME).open(\"wb\").write(content)"
      ],
      "execution_count": 4,
      "outputs": []
    },
    {
      "cell_type": "code",
      "metadata": {
        "id": "xCZz34rdJJ-Z"
      },
      "source": [
        "import pickle\n",
        "import gzip\n",
        "\n",
        "with gzip.open((PATH / FILENAME).as_posix(), \"rb\") as f:\n",
        "  ((x_train, y_train), (x_valid, y_valid), _) = pickle.load(f, encoding=\"latin-1\")"
      ],
      "execution_count": 6,
      "outputs": []
    },
    {
      "cell_type": "code",
      "metadata": {
        "colab": {
          "base_uri": "https://localhost:8080/"
        },
        "id": "-fIxpiFfOgka",
        "outputId": "c4abd577-36af-4748-a364-5b6ce0d68890"
      },
      "source": [
        "!pip install wandb"
      ],
      "execution_count": 8,
      "outputs": [
        {
          "output_type": "stream",
          "name": "stdout",
          "text": [
            "Collecting wandb\n",
            "  Downloading wandb-0.12.1-py2.py3-none-any.whl (1.7 MB)\n",
            "\u001b[K     |████████████████████████████████| 1.7 MB 8.3 MB/s \n",
            "\u001b[?25hCollecting shortuuid>=0.5.0\n",
            "  Downloading shortuuid-1.0.1-py3-none-any.whl (7.5 kB)\n",
            "Collecting subprocess32>=3.5.3\n",
            "  Downloading subprocess32-3.5.4.tar.gz (97 kB)\n",
            "\u001b[K     |████████████████████████████████| 97 kB 6.0 MB/s \n",
            "\u001b[?25hRequirement already satisfied: Click!=8.0.0,>=7.0 in /usr/local/lib/python3.7/dist-packages (from wandb) (7.1.2)\n",
            "Collecting GitPython>=1.0.0\n",
            "  Downloading GitPython-3.1.18-py3-none-any.whl (170 kB)\n",
            "\u001b[K     |████████████████████████████████| 170 kB 53.3 MB/s \n",
            "\u001b[?25hCollecting pathtools\n",
            "  Downloading pathtools-0.1.2.tar.gz (11 kB)\n",
            "Requirement already satisfied: promise<3,>=2.0 in /usr/local/lib/python3.7/dist-packages (from wandb) (2.3)\n",
            "Requirement already satisfied: six>=1.13.0 in /usr/local/lib/python3.7/dist-packages (from wandb) (1.15.0)\n",
            "Collecting configparser>=3.8.1\n",
            "  Downloading configparser-5.0.2-py3-none-any.whl (19 kB)\n",
            "Collecting sentry-sdk>=1.0.0\n",
            "  Downloading sentry_sdk-1.3.1-py2.py3-none-any.whl (133 kB)\n",
            "\u001b[K     |████████████████████████████████| 133 kB 58.6 MB/s \n",
            "\u001b[?25hRequirement already satisfied: protobuf>=3.12.0 in /usr/local/lib/python3.7/dist-packages (from wandb) (3.17.3)\n",
            "Requirement already satisfied: PyYAML in /usr/local/lib/python3.7/dist-packages (from wandb) (3.13)\n",
            "Requirement already satisfied: python-dateutil>=2.6.1 in /usr/local/lib/python3.7/dist-packages (from wandb) (2.8.2)\n",
            "Collecting docker-pycreds>=0.4.0\n",
            "  Downloading docker_pycreds-0.4.0-py2.py3-none-any.whl (9.0 kB)\n",
            "Requirement already satisfied: psutil>=5.0.0 in /usr/local/lib/python3.7/dist-packages (from wandb) (5.4.8)\n",
            "Requirement already satisfied: requests<3,>=2.0.0 in /usr/local/lib/python3.7/dist-packages (from wandb) (2.23.0)\n",
            "Requirement already satisfied: typing-extensions>=3.7.4.0 in /usr/local/lib/python3.7/dist-packages (from GitPython>=1.0.0->wandb) (3.7.4.3)\n",
            "Collecting gitdb<5,>=4.0.1\n",
            "  Downloading gitdb-4.0.7-py3-none-any.whl (63 kB)\n",
            "\u001b[K     |████████████████████████████████| 63 kB 1.6 MB/s \n",
            "\u001b[?25hCollecting smmap<5,>=3.0.1\n",
            "  Downloading smmap-4.0.0-py2.py3-none-any.whl (24 kB)\n",
            "Requirement already satisfied: chardet<4,>=3.0.2 in /usr/local/lib/python3.7/dist-packages (from requests<3,>=2.0.0->wandb) (3.0.4)\n",
            "Requirement already satisfied: idna<3,>=2.5 in /usr/local/lib/python3.7/dist-packages (from requests<3,>=2.0.0->wandb) (2.10)\n",
            "Requirement already satisfied: certifi>=2017.4.17 in /usr/local/lib/python3.7/dist-packages (from requests<3,>=2.0.0->wandb) (2021.5.30)\n",
            "Requirement already satisfied: urllib3!=1.25.0,!=1.25.1,<1.26,>=1.21.1 in /usr/local/lib/python3.7/dist-packages (from requests<3,>=2.0.0->wandb) (1.24.3)\n",
            "Building wheels for collected packages: subprocess32, pathtools\n",
            "  Building wheel for subprocess32 (setup.py) ... \u001b[?25l\u001b[?25hdone\n",
            "  Created wheel for subprocess32: filename=subprocess32-3.5.4-py3-none-any.whl size=6502 sha256=e3f5d13baaf661ae182d9528aded9ccc154c3ad24508fb03f22ed0ba430942d2\n",
            "  Stored in directory: /root/.cache/pip/wheels/50/ca/fa/8fca8d246e64f19488d07567547ddec8eb084e8c0d7a59226a\n",
            "  Building wheel for pathtools (setup.py) ... \u001b[?25l\u001b[?25hdone\n",
            "  Created wheel for pathtools: filename=pathtools-0.1.2-py3-none-any.whl size=8807 sha256=70666a51419e7d7c338639e430e9dc8d33d0ec450b62a57c7dcb02d6b2620b6c\n",
            "  Stored in directory: /root/.cache/pip/wheels/3e/31/09/fa59cef12cdcfecc627b3d24273699f390e71828921b2cbba2\n",
            "Successfully built subprocess32 pathtools\n",
            "Installing collected packages: smmap, gitdb, subprocess32, shortuuid, sentry-sdk, pathtools, GitPython, docker-pycreds, configparser, wandb\n",
            "Successfully installed GitPython-3.1.18 configparser-5.0.2 docker-pycreds-0.4.0 gitdb-4.0.7 pathtools-0.1.2 sentry-sdk-1.3.1 shortuuid-1.0.1 smmap-4.0.0 subprocess32-3.5.4 wandb-0.12.1\n"
          ]
        }
      ]
    },
    {
      "cell_type": "code",
      "metadata": {
        "colab": {
          "base_uri": "https://localhost:8080/",
          "height": 62
        },
        "id": "c4_gQwa7KNAo",
        "outputId": "da7ef830-9316-4140-b343-1ac7a570a655"
      },
      "source": [
        "import numpy as np\n",
        "import wandb\n",
        "\n",
        "print(x_train.shape)\n",
        "im = wandb.Image(x_train[0].reshape((28,28)))\n",
        "im.image"
      ],
      "execution_count": 12,
      "outputs": [
        {
          "output_type": "stream",
          "name": "stdout",
          "text": [
            "(50000, 784)\n"
          ]
        },
        {
          "output_type": "execute_result",
          "data": {
            "image/png": "[encoded data removed]",
            "text/plain": [
              "<PIL.PngImagePlugin.PngImageFile image mode=L size=28x28 at 0x7F42DA971910>"
            ]
          },
          "metadata": {},
          "execution_count": 12
        }
      ]
    },
    {
      "cell_type": "code",
      "metadata": {
        "colab": {
          "base_uri": "https://localhost:8080/"
        },
        "id": "jWkqc0bnONYg",
        "outputId": "588e1f3c-262d-4f23-dff5-75edaeb46926"
      },
      "source": [
        "import torch\n",
        "\n",
        "(x_train,y_train,x_valid,y_valid) = map(torch.tensor, (x_train,y_train,x_valid,y_valid))\n",
        "n,c = x_train.shape\n",
        "print(x_train, y_train)\n",
        "print(x_train.shape)\n",
        "print(y_train.min(), y_train.max())"
      ],
      "execution_count": 14,
      "outputs": [
        {
          "output_type": "stream",
          "name": "stderr",
          "text": [
            "/usr/local/lib/python3.7/dist-packages/ipykernel_launcher.py:3: UserWarning: To copy construct from a tensor, it is recommended to use sourceTensor.clone().detach() or sourceTensor.clone().detach().requires_grad_(True), rather than torch.tensor(sourceTensor).\n",
            "  This is separate from the ipykernel package so we can avoid doing imports until\n"
          ]
        },
        {
          "output_type": "stream",
          "name": "stdout",
          "text": [
            "tensor([[0., 0., 0.,  ..., 0., 0., 0.],\n",
            "        [0., 0., 0.,  ..., 0., 0., 0.],\n",
            "        [0., 0., 0.,  ..., 0., 0., 0.],\n",
            "        ...,\n",
            "        [0., 0., 0.,  ..., 0., 0., 0.],\n",
            "        [0., 0., 0.,  ..., 0., 0., 0.],\n",
            "        [0., 0., 0.,  ..., 0., 0., 0.]]) tensor([5, 0, 4,  ..., 8, 4, 8])\n",
            "torch.Size([50000, 784])\n",
            "tensor(0) tensor(9)\n"
          ]
        }
      ]
    },
    {
      "cell_type": "markdown",
      "metadata": {
        "id": "tw0BS3ogSI1B"
      },
      "source": [
        "## Neural Net from scratch"
      ]
    },
    {
      "cell_type": "code",
      "metadata": {
        "id": "UIavLG-5P5zH"
      },
      "source": [
        "import math\n",
        "\n",
        "weights = torch.randn(784, 10) / math.sqrt(784)\n",
        "weights.requires_grad_()\n",
        "biases = torch.zeros(10, requires_grad=True)"
      ],
      "execution_count": 18,
      "outputs": []
    },
    {
      "cell_type": "code",
      "metadata": {
        "id": "Q_OjL8XPS9vT"
      },
      "source": [
        "def log_softmax(x):\n",
        "  return x-x.exp().sum(-1).log().unsqueeze(-1)\n",
        "\n",
        "def model(xb):\n",
        "  return log_softmax(xb @ weights + biases)"
      ],
      "execution_count": 19,
      "outputs": []
    },
    {
      "cell_type": "code",
      "metadata": {
        "colab": {
          "base_uri": "https://localhost:8080/"
        },
        "id": "CIa186SIUprR",
        "outputId": "a352e16a-82f1-47d4-b256-66668d671abc"
      },
      "source": [
        "bs = 64 # batch size\n",
        "\n",
        "xb = x_train[0:bs] # a mini batch from x\n",
        "preds = model(xb)\n",
        "preds[0], preds.shape"
      ],
      "execution_count": 20,
      "outputs": [
        {
          "output_type": "execute_result",
          "data": {
            "text/plain": [
              "(tensor([-2.2628, -2.4717, -1.9453, -2.4616, -2.2052, -2.4420, -2.2887, -2.7974,\n",
              "         -1.9550, -2.4999], grad_fn=<SelectBackward>), torch.Size([64, 10]))"
            ]
          },
          "metadata": {},
          "execution_count": 20
        }
      ]
    },
    {
      "cell_type": "code",
      "metadata": {
        "colab": {
          "base_uri": "https://localhost:8080/"
        },
        "id": "e0d2KyTvcxtk",
        "outputId": "ba3f10a0-8f2c-47b7-f0b9-2824a2d161ba"
      },
      "source": [
        "!pip install torchviz"
      ],
      "execution_count": 22,
      "outputs": [
        {
          "output_type": "stream",
          "name": "stdout",
          "text": [
            "Collecting torchviz\n",
            "  Downloading torchviz-0.0.2.tar.gz (4.9 kB)\n",
            "Requirement already satisfied: torch in /usr/local/lib/python3.7/dist-packages (from torchviz) (1.9.0+cu102)\n",
            "Requirement already satisfied: graphviz in /usr/local/lib/python3.7/dist-packages (from torchviz) (0.10.1)\n",
            "Requirement already satisfied: typing-extensions in /usr/local/lib/python3.7/dist-packages (from torch->torchviz) (3.7.4.3)\n",
            "Building wheels for collected packages: torchviz\n",
            "  Building wheel for torchviz (setup.py) ... \u001b[?25l\u001b[?25hdone\n",
            "  Created wheel for torchviz: filename=torchviz-0.0.2-py3-none-any.whl size=4151 sha256=2e85375325b709f10b3a90225adedba974a972b011735cbc66ca55e07f418bd4\n",
            "  Stored in directory: /root/.cache/pip/wheels/04/38/f5/dc4f85c3909051823df49901e72015d2d750bd26b086480ec2\n",
            "Successfully built torchviz\n",
            "Installing collected packages: torchviz\n",
            "Successfully installed torchviz-0.0.2\n"
          ]
        }
      ]
    },
    {
      "cell_type": "code",
      "metadata": {
        "colab": {
          "base_uri": "https://localhost:8080/",
          "height": 762
        },
        "id": "EwvDUYl9Vp0-",
        "outputId": "cbfccaf2-a0ae-40f1-b62a-0d41b9501924"
      },
      "source": [
        "import torchviz\n",
        "\n",
        "torchviz.make_dot(preds, params={\"W\": weights, \"b\": biases})"
      ],
      "execution_count": 23,
      "outputs": [
        {
          "output_type": "execute_result",
          "data": {
            "text/plain": [
              "<graphviz.dot.Digraph at 0x7f42e080e3d0>"
            ],
            "image/svg+xml": "<?xml version=\"1.0\" encoding=\"UTF-8\" standalone=\"no\"?>\n<!DOCTYPE svg PUBLIC \"-//W3C//DTD SVG 1.1//EN\"\n \"http://www.w3.org/Graphics/SVG/1.1/DTD/svg11.dtd\">\n<!-- Generated by graphviz version 2.40.1 (20161225.0304)\n -->\n<!-- Title: %3 Pages: 1 -->\n<svg width=\"230pt\" height=\"556pt\"\n viewBox=\"0.00 0.00 230.00 556.00\" xmlns=\"http://www.w3.org/2000/svg\" xmlns:xlink=\"http://www.w3.org/1999/xlink\">\n<g id=\"graph0\" class=\"graph\" transform=\"scale(1 1) rotate(0) translate(4 552)\">\n<title>%3</title>\n<polygon fill=\"#ffffff\" stroke=\"transparent\" points=\"-4,4 -4,-552 226,-552 226,4 -4,4\"/>\n<!-- 139922288161808 -->\n<g id=\"node1\" class=\"node\">\n<title>139922288161808</title>\n<polygon fill=\"#caff70\" stroke=\"#000000\" points=\"149,-31 78,-31 78,0 149,0 149,-31\"/>\n<text text-anchor=\"middle\" x=\"113.5\" y=\"-7\" font-family=\"monospace\" font-size=\"10.00\" fill=\"#000000\"> (64, 10)</text>\n</g>\n<!-- 139925211113936 -->\n<g id=\"node2\" class=\"node\">\n<title>139925211113936</title>\n<polygon fill=\"#d3d3d3\" stroke=\"#000000\" points=\"158,-86 69,-86 69,-67 158,-67 158,-86\"/>\n<text text-anchor=\"middle\" x=\"113.5\" y=\"-74\" font-family=\"monospace\" font-size=\"10.00\" fill=\"#000000\">SubBackward0</text>\n</g>\n<!-- 139925211113936&#45;&gt;139922288161808 -->\n<g id=\"edge12\" class=\"edge\">\n<title>139925211113936&#45;&gt;139922288161808</title>\n<path fill=\"none\" stroke=\"#000000\" d=\"M113.5,-66.9688C113.5,-60.1289 113.5,-50.5621 113.5,-41.5298\"/>\n<polygon fill=\"#000000\" stroke=\"#000000\" points=\"117.0001,-41.3678 113.5,-31.3678 110.0001,-41.3678 117.0001,-41.3678\"/>\n</g>\n<!-- 139925211112144 -->\n<g id=\"node3\" class=\"node\">\n<title>139925211112144</title>\n<polygon fill=\"#d3d3d3\" stroke=\"#000000\" points=\"148,-361 59,-361 59,-342 148,-342 148,-361\"/>\n<text text-anchor=\"middle\" x=\"103.5\" y=\"-349\" font-family=\"monospace\" font-size=\"10.00\" fill=\"#000000\">AddBackward0</text>\n</g>\n<!-- 139925211112144&#45;&gt;139925211113936 -->\n<g id=\"edge1\" class=\"edge\">\n<title>139925211112144&#45;&gt;139925211113936</title>\n<path fill=\"none\" stroke=\"#000000\" d=\"M98.1843,-341.8207C88.3931,-323.0582 68.5,-280.1784 68.5,-241.5 68.5,-241.5 68.5,-241.5 68.5,-186.5 68.5,-152.1453 87.5354,-115.9477 100.8452,-94.8367\"/>\n<polygon fill=\"#000000\" stroke=\"#000000\" points=\"103.9127,-96.5414 106.4688,-86.2595 98.0587,-92.7033 103.9127,-96.5414\"/>\n</g>\n<!-- 139925210107856 -->\n<g id=\"node12\" class=\"node\">\n<title>139925210107856</title>\n<polygon fill=\"#d3d3d3\" stroke=\"#000000\" points=\"186,-306 103,-306 103,-287 186,-287 186,-306\"/>\n<text text-anchor=\"middle\" x=\"144.5\" y=\"-294\" font-family=\"monospace\" font-size=\"10.00\" fill=\"#000000\">ExpBackward</text>\n</g>\n<!-- 139925211112144&#45;&gt;139925210107856 -->\n<g id=\"edge11\" class=\"edge\">\n<title>139925211112144&#45;&gt;139925210107856</title>\n<path fill=\"none\" stroke=\"#000000\" d=\"M110.6417,-341.9197C116.2749,-334.363 124.2917,-323.6087 131.1105,-314.4616\"/>\n<polygon fill=\"#000000\" stroke=\"#000000\" points=\"133.9935,-316.4501 137.1641,-306.3408 128.3813,-312.2665 133.9935,-316.4501\"/>\n</g>\n<!-- 139925211111504 -->\n<g id=\"node4\" class=\"node\">\n<title>139925211111504</title>\n<polygon fill=\"#d3d3d3\" stroke=\"#000000\" points=\"89,-416 12,-416 12,-397 89,-397 89,-416\"/>\n<text text-anchor=\"middle\" x=\"50.5\" y=\"-404\" font-family=\"monospace\" font-size=\"10.00\" fill=\"#000000\">MmBackward</text>\n</g>\n<!-- 139925211111504&#45;&gt;139925211112144 -->\n<g id=\"edge2\" class=\"edge\">\n<title>139925211111504&#45;&gt;139925211112144</title>\n<path fill=\"none\" stroke=\"#000000\" d=\"M59.7319,-396.9197C67.2391,-389.1293 78.021,-377.9405 87.0049,-368.6176\"/>\n<polygon fill=\"#000000\" stroke=\"#000000\" points=\"89.5983,-370.9703 94.017,-361.3408 84.5578,-366.113 89.5983,-370.9703\"/>\n</g>\n<!-- 139925211114768 -->\n<g id=\"node5\" class=\"node\">\n<title>139925211114768</title>\n<polygon fill=\"#d3d3d3\" stroke=\"#000000\" points=\"101,-476.5 0,-476.5 0,-457.5 101,-457.5 101,-476.5\"/>\n<text text-anchor=\"middle\" x=\"50.5\" y=\"-464.5\" font-family=\"monospace\" font-size=\"10.00\" fill=\"#000000\">AccumulateGrad</text>\n</g>\n<!-- 139925211114768&#45;&gt;139925211111504 -->\n<g id=\"edge3\" class=\"edge\">\n<title>139925211114768&#45;&gt;139925211111504</title>\n<path fill=\"none\" stroke=\"#000000\" d=\"M50.5,-457.2796C50.5,-449.0376 50.5,-436.9457 50.5,-426.629\"/>\n<polygon fill=\"#000000\" stroke=\"#000000\" points=\"54.0001,-426.3972 50.5,-416.3972 47.0001,-426.3973 54.0001,-426.3972\"/>\n</g>\n<!-- 139922288163968 -->\n<g id=\"node6\" class=\"node\">\n<title>139922288163968</title>\n<polygon fill=\"#add8e6\" stroke=\"#000000\" points=\"89,-548 12,-548 12,-518 89,-518 89,-548\"/>\n<text text-anchor=\"middle\" x=\"50.5\" y=\"-536\" font-family=\"monospace\" font-size=\"10.00\" fill=\"#000000\">W</text>\n<text text-anchor=\"middle\" x=\"50.5\" y=\"-525\" font-family=\"monospace\" font-size=\"10.00\" fill=\"#000000\"> (784, 10)</text>\n</g>\n<!-- 139922288163968&#45;&gt;139925211114768 -->\n<g id=\"edge4\" class=\"edge\">\n<title>139922288163968&#45;&gt;139925211114768</title>\n<path fill=\"none\" stroke=\"#000000\" d=\"M50.5,-517.6924C50.5,-508.5067 50.5,-496.7245 50.5,-486.8312\"/>\n<polygon fill=\"#000000\" stroke=\"#000000\" points=\"54.0001,-486.703 50.5,-476.7031 47.0001,-486.7031 54.0001,-486.703\"/>\n</g>\n<!-- 139925211112336 -->\n<g id=\"node7\" class=\"node\">\n<title>139925211112336</title>\n<polygon fill=\"#d3d3d3\" stroke=\"#000000\" points=\"208,-416 107,-416 107,-397 208,-397 208,-416\"/>\n<text text-anchor=\"middle\" x=\"157.5\" y=\"-404\" font-family=\"monospace\" font-size=\"10.00\" fill=\"#000000\">AccumulateGrad</text>\n</g>\n<!-- 139925211112336&#45;&gt;139925211112144 -->\n<g id=\"edge5\" class=\"edge\">\n<title>139925211112336&#45;&gt;139925211112144</title>\n<path fill=\"none\" stroke=\"#000000\" d=\"M148.0939,-396.9197C140.4451,-389.1293 129.4597,-377.9405 120.3064,-368.6176\"/>\n<polygon fill=\"#000000\" stroke=\"#000000\" points=\"122.6653,-366.0244 113.1619,-361.3408 117.6704,-370.9286 122.6653,-366.0244\"/>\n</g>\n<!-- 139922288478080 -->\n<g id=\"node8\" class=\"node\">\n<title>139922288478080</title>\n<polygon fill=\"#add8e6\" stroke=\"#000000\" points=\"184.5,-482 130.5,-482 130.5,-452 184.5,-452 184.5,-482\"/>\n<text text-anchor=\"middle\" x=\"157.5\" y=\"-470\" font-family=\"monospace\" font-size=\"10.00\" fill=\"#000000\">b</text>\n<text text-anchor=\"middle\" x=\"157.5\" y=\"-459\" font-family=\"monospace\" font-size=\"10.00\" fill=\"#000000\"> (10)</text>\n</g>\n<!-- 139922288478080&#45;&gt;139925211112336 -->\n<g id=\"edge6\" class=\"edge\">\n<title>139922288478080&#45;&gt;139925211112336</title>\n<path fill=\"none\" stroke=\"#000000\" d=\"M157.5,-451.7333C157.5,-444.0322 157.5,-434.5977 157.5,-426.3414\"/>\n<polygon fill=\"#000000\" stroke=\"#000000\" points=\"161.0001,-426.0864 157.5,-416.0864 154.0001,-426.0864 161.0001,-426.0864\"/>\n</g>\n<!-- 139925211113168 -->\n<g id=\"node9\" class=\"node\">\n<title>139925211113168</title>\n<polygon fill=\"#d3d3d3\" stroke=\"#000000\" points=\"222,-141 97,-141 97,-122 222,-122 222,-141\"/>\n<text text-anchor=\"middle\" x=\"159.5\" y=\"-129\" font-family=\"monospace\" font-size=\"10.00\" fill=\"#000000\">UnsqueezeBackward0</text>\n</g>\n<!-- 139925211113168&#45;&gt;139925211113936 -->\n<g id=\"edge7\" class=\"edge\">\n<title>139925211113168&#45;&gt;139925211113936</title>\n<path fill=\"none\" stroke=\"#000000\" d=\"M151.4874,-121.9197C145.1021,-114.2851 135.987,-103.3867 128.2862,-94.1792\"/>\n<polygon fill=\"#000000\" stroke=\"#000000\" points=\"130.8309,-91.7662 121.7305,-86.3408 125.4613,-96.2571 130.8309,-91.7662\"/>\n</g>\n<!-- 139925211112528 -->\n<g id=\"node10\" class=\"node\">\n<title>139925211112528</title>\n<polygon fill=\"#d3d3d3\" stroke=\"#000000\" points=\"196,-196 113,-196 113,-177 196,-177 196,-196\"/>\n<text text-anchor=\"middle\" x=\"154.5\" y=\"-184\" font-family=\"monospace\" font-size=\"10.00\" fill=\"#000000\">LogBackward</text>\n</g>\n<!-- 139925211112528&#45;&gt;139925211113168 -->\n<g id=\"edge8\" class=\"edge\">\n<title>139925211112528&#45;&gt;139925211113168</title>\n<path fill=\"none\" stroke=\"#000000\" d=\"M155.3709,-176.9197C156.0083,-169.9083 156.896,-160.1442 157.685,-151.4652\"/>\n<polygon fill=\"#000000\" stroke=\"#000000\" points=\"161.1856,-151.6167 158.6054,-141.3408 154.2143,-150.9829 161.1856,-151.6167\"/>\n</g>\n<!-- 139925211115216 -->\n<g id=\"node11\" class=\"node\">\n<title>139925211115216</title>\n<polygon fill=\"#d3d3d3\" stroke=\"#000000\" points=\"195,-251 106,-251 106,-232 195,-232 195,-251\"/>\n<text text-anchor=\"middle\" x=\"150.5\" y=\"-239\" font-family=\"monospace\" font-size=\"10.00\" fill=\"#000000\">SumBackward1</text>\n</g>\n<!-- 139925211115216&#45;&gt;139925211112528 -->\n<g id=\"edge9\" class=\"edge\">\n<title>139925211115216&#45;&gt;139925211112528</title>\n<path fill=\"none\" stroke=\"#000000\" d=\"M151.1967,-231.9197C151.7067,-224.9083 152.4168,-215.1442 153.048,-206.4652\"/>\n<polygon fill=\"#000000\" stroke=\"#000000\" points=\"156.5496,-206.5684 153.7843,-196.3408 149.5681,-206.0606 156.5496,-206.5684\"/>\n</g>\n<!-- 139925210107856&#45;&gt;139925211115216 -->\n<g id=\"edge10\" class=\"edge\">\n<title>139925210107856&#45;&gt;139925211115216</title>\n<path fill=\"none\" stroke=\"#000000\" d=\"M145.5451,-286.9197C146.31,-279.9083 147.3752,-270.1442 148.322,-261.4652\"/>\n<polygon fill=\"#000000\" stroke=\"#000000\" points=\"151.8213,-261.6614 149.4265,-251.3408 144.8625,-260.9023 151.8213,-261.6614\"/>\n</g>\n</g>\n</svg>\n"
          },
          "metadata": {},
          "execution_count": 23
        }
      ]
    },
    {
      "cell_type": "code",
      "metadata": {
        "id": "gLHtQF0Zct9N"
      },
      "source": [
        ""
      ],
      "execution_count": null,
      "outputs": []
    }
  ]
}